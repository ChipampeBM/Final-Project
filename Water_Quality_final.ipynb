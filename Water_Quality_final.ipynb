{
 "cells": [
  {
   "cell_type": "code",
   "execution_count": 2,
   "source": [
    "#dependancies \n",
    "\n",
    "import matplotlib.pyplot as plt\n",
    "import numpy as np\n",
    "import pandas as pd\n",
    "\n",
    "import pickle\n",
    "import requests\n",
    "import json"
   ],
   "outputs": [],
   "metadata": {}
  },
  {
   "cell_type": "code",
   "execution_count": 3,
   "source": [
    "# Reading the csv file into a pandas DataFrame\n",
    "\n",
    "csvdata = pd.read_csv('Resources/water_potability.csv')\n",
    "csvdata.info()"
   ],
   "outputs": [
    {
     "output_type": "stream",
     "name": "stdout",
     "text": [
      "<class 'pandas.core.frame.DataFrame'>\n",
      "RangeIndex: 3276 entries, 0 to 3275\n",
      "Data columns (total 10 columns):\n",
      " #   Column           Non-Null Count  Dtype  \n",
      "---  ------           --------------  -----  \n",
      " 0   Ph               2785 non-null   float64\n",
      " 1   Hardness         3276 non-null   float64\n",
      " 2   Solids           3276 non-null   float64\n",
      " 3   Chloramines      3276 non-null   float64\n",
      " 4   Sulfate          2495 non-null   float64\n",
      " 5   Conductivity     3276 non-null   float64\n",
      " 6   Organic_carbon   3276 non-null   float64\n",
      " 7   Trihalomethanes  3114 non-null   float64\n",
      " 8   Turbidity        3276 non-null   float64\n",
      " 9   Potability       3276 non-null   int64  \n",
      "dtypes: float64(9), int64(1)\n",
      "memory usage: 256.1 KB\n"
     ]
    }
   ],
   "metadata": {}
  },
  {
   "cell_type": "code",
   "execution_count": 4,
   "source": [
    "# Statistical summary \n",
    "csvdata.describe().T"
   ],
   "outputs": [
    {
     "output_type": "execute_result",
     "data": {
      "text/html": [
       "<div>\n",
       "<style scoped>\n",
       "    .dataframe tbody tr th:only-of-type {\n",
       "        vertical-align: middle;\n",
       "    }\n",
       "\n",
       "    .dataframe tbody tr th {\n",
       "        vertical-align: top;\n",
       "    }\n",
       "\n",
       "    .dataframe thead th {\n",
       "        text-align: right;\n",
       "    }\n",
       "</style>\n",
       "<table border=\"1\" class=\"dataframe\">\n",
       "  <thead>\n",
       "    <tr style=\"text-align: right;\">\n",
       "      <th></th>\n",
       "      <th>count</th>\n",
       "      <th>mean</th>\n",
       "      <th>std</th>\n",
       "      <th>min</th>\n",
       "      <th>25%</th>\n",
       "      <th>50%</th>\n",
       "      <th>75%</th>\n",
       "      <th>max</th>\n",
       "    </tr>\n",
       "  </thead>\n",
       "  <tbody>\n",
       "    <tr>\n",
       "      <th>Ph</th>\n",
       "      <td>2785.0</td>\n",
       "      <td>7.080795</td>\n",
       "      <td>1.594320</td>\n",
       "      <td>0.000000</td>\n",
       "      <td>6.093092</td>\n",
       "      <td>7.036752</td>\n",
       "      <td>8.062066</td>\n",
       "      <td>14.000000</td>\n",
       "    </tr>\n",
       "    <tr>\n",
       "      <th>Hardness</th>\n",
       "      <td>3276.0</td>\n",
       "      <td>196.369481</td>\n",
       "      <td>32.879680</td>\n",
       "      <td>47.430000</td>\n",
       "      <td>176.847500</td>\n",
       "      <td>196.965000</td>\n",
       "      <td>216.670000</td>\n",
       "      <td>323.120000</td>\n",
       "    </tr>\n",
       "    <tr>\n",
       "      <th>Solids</th>\n",
       "      <td>3276.0</td>\n",
       "      <td>22014.092526</td>\n",
       "      <td>8768.570828</td>\n",
       "      <td>320.942611</td>\n",
       "      <td>15666.690300</td>\n",
       "      <td>20927.833605</td>\n",
       "      <td>27332.762125</td>\n",
       "      <td>61227.196010</td>\n",
       "    </tr>\n",
       "    <tr>\n",
       "      <th>Chloramines</th>\n",
       "      <td>3276.0</td>\n",
       "      <td>7.122277</td>\n",
       "      <td>1.583085</td>\n",
       "      <td>0.352000</td>\n",
       "      <td>6.127421</td>\n",
       "      <td>7.130299</td>\n",
       "      <td>8.114887</td>\n",
       "      <td>13.127000</td>\n",
       "    </tr>\n",
       "    <tr>\n",
       "      <th>Sulfate</th>\n",
       "      <td>2495.0</td>\n",
       "      <td>333.775777</td>\n",
       "      <td>41.416840</td>\n",
       "      <td>129.000000</td>\n",
       "      <td>307.699498</td>\n",
       "      <td>333.073546</td>\n",
       "      <td>359.950170</td>\n",
       "      <td>481.030642</td>\n",
       "    </tr>\n",
       "    <tr>\n",
       "      <th>Conductivity</th>\n",
       "      <td>3276.0</td>\n",
       "      <td>426.205111</td>\n",
       "      <td>80.824064</td>\n",
       "      <td>181.483754</td>\n",
       "      <td>365.734414</td>\n",
       "      <td>421.884968</td>\n",
       "      <td>481.792305</td>\n",
       "      <td>753.342620</td>\n",
       "    </tr>\n",
       "    <tr>\n",
       "      <th>Organic_carbon</th>\n",
       "      <td>3276.0</td>\n",
       "      <td>14.284970</td>\n",
       "      <td>3.308162</td>\n",
       "      <td>2.200000</td>\n",
       "      <td>12.065801</td>\n",
       "      <td>14.218338</td>\n",
       "      <td>16.557652</td>\n",
       "      <td>28.300000</td>\n",
       "    </tr>\n",
       "    <tr>\n",
       "      <th>Trihalomethanes</th>\n",
       "      <td>3114.0</td>\n",
       "      <td>66.396293</td>\n",
       "      <td>16.175008</td>\n",
       "      <td>0.738000</td>\n",
       "      <td>55.844536</td>\n",
       "      <td>66.622485</td>\n",
       "      <td>77.337473</td>\n",
       "      <td>124.000000</td>\n",
       "    </tr>\n",
       "    <tr>\n",
       "      <th>Turbidity</th>\n",
       "      <td>3276.0</td>\n",
       "      <td>3.966786</td>\n",
       "      <td>0.780382</td>\n",
       "      <td>1.450000</td>\n",
       "      <td>3.439711</td>\n",
       "      <td>3.955028</td>\n",
       "      <td>4.500320</td>\n",
       "      <td>6.739000</td>\n",
       "    </tr>\n",
       "    <tr>\n",
       "      <th>Potability</th>\n",
       "      <td>3276.0</td>\n",
       "      <td>0.390110</td>\n",
       "      <td>0.487849</td>\n",
       "      <td>0.000000</td>\n",
       "      <td>0.000000</td>\n",
       "      <td>0.000000</td>\n",
       "      <td>1.000000</td>\n",
       "      <td>1.000000</td>\n",
       "    </tr>\n",
       "  </tbody>\n",
       "</table>\n",
       "</div>"
      ],
      "text/plain": [
       "                  count          mean          std         min           25%  \\\n",
       "Ph               2785.0      7.080795     1.594320    0.000000      6.093092   \n",
       "Hardness         3276.0    196.369481    32.879680   47.430000    176.847500   \n",
       "Solids           3276.0  22014.092526  8768.570828  320.942611  15666.690300   \n",
       "Chloramines      3276.0      7.122277     1.583085    0.352000      6.127421   \n",
       "Sulfate          2495.0    333.775777    41.416840  129.000000    307.699498   \n",
       "Conductivity     3276.0    426.205111    80.824064  181.483754    365.734414   \n",
       "Organic_carbon   3276.0     14.284970     3.308162    2.200000     12.065801   \n",
       "Trihalomethanes  3114.0     66.396293    16.175008    0.738000     55.844536   \n",
       "Turbidity        3276.0      3.966786     0.780382    1.450000      3.439711   \n",
       "Potability       3276.0      0.390110     0.487849    0.000000      0.000000   \n",
       "\n",
       "                          50%           75%           max  \n",
       "Ph                   7.036752      8.062066     14.000000  \n",
       "Hardness           196.965000    216.670000    323.120000  \n",
       "Solids           20927.833605  27332.762125  61227.196010  \n",
       "Chloramines          7.130299      8.114887     13.127000  \n",
       "Sulfate            333.073546    359.950170    481.030642  \n",
       "Conductivity       421.884968    481.792305    753.342620  \n",
       "Organic_carbon      14.218338     16.557652     28.300000  \n",
       "Trihalomethanes     66.622485     77.337473    124.000000  \n",
       "Turbidity            3.955028      4.500320      6.739000  \n",
       "Potability           0.000000      1.000000      1.000000  "
      ]
     },
     "metadata": {},
     "execution_count": 4
    }
   ],
   "metadata": {}
  },
  {
   "cell_type": "code",
   "execution_count": 5,
   "source": [
    "#Potability data\n",
    "\n",
    "csvdata.Potability.value_counts().sort_values().plot(kind = 'barh')"
   ],
   "outputs": [
    {
     "output_type": "execute_result",
     "data": {
      "text/plain": [
       "<AxesSubplot:>"
      ]
     },
     "metadata": {},
     "execution_count": 5
    },
    {
     "output_type": "display_data",
     "data": {
      "image/png": "[encoded data removed]",
      "text/plain": [
       "<Figure size 432x288 with 1 Axes>"
      ]
     },
     "metadata": {
      "needs_background": "light"
     }
    }
   ],
   "metadata": {}
  },
  {
   "cell_type": "code",
   "execution_count": 6,
   "source": [
    "data = csvdata.isnull().sum()\n",
    "data"
   ],
   "outputs": [
    {
     "output_type": "execute_result",
     "data": {
      "text/plain": [
       "Ph                 491\n",
       "Hardness             0\n",
       "Solids               0\n",
       "Chloramines          0\n",
       "Sulfate            781\n",
       "Conductivity         0\n",
       "Organic_carbon       0\n",
       "Trihalomethanes    162\n",
       "Turbidity            0\n",
       "Potability           0\n",
       "dtype: int64"
      ]
     },
     "metadata": {},
     "execution_count": 6
    }
   ],
   "metadata": {}
  },
  {
   "cell_type": "code",
   "execution_count": 7,
   "source": [
    "data2 = csvdata.fillna(csvdata.mean())\n",
    "data2"
   ],
   "outputs": [
    {
     "output_type": "execute_result",
     "data": {
      "text/html": [
       "<div>\n",
       "<style scoped>\n",
       "    .dataframe tbody tr th:only-of-type {\n",
       "        vertical-align: middle;\n",
       "    }\n",
       "\n",
       "    .dataframe tbody tr th {\n",
       "        vertical-align: top;\n",
       "    }\n",
       "\n",
       "    .dataframe thead th {\n",
       "        text-align: right;\n",
       "    }\n",
       "</style>\n",
       "<table border=\"1\" class=\"dataframe\">\n",
       "  <thead>\n",
       "    <tr style=\"text-align: right;\">\n",
       "      <th></th>\n",
       "      <th>Ph</th>\n",
       "      <th>Hardness</th>\n",
       "      <th>Solids</th>\n",
       "      <th>Chloramines</th>\n",
       "      <th>Sulfate</th>\n",
       "      <th>Conductivity</th>\n",
       "      <th>Organic_carbon</th>\n",
       "      <th>Trihalomethanes</th>\n",
       "      <th>Turbidity</th>\n",
       "      <th>Potability</th>\n",
       "    </tr>\n",
       "  </thead>\n",
       "  <tbody>\n",
       "    <tr>\n",
       "      <th>0</th>\n",
       "      <td>7.080795</td>\n",
       "      <td>204.89</td>\n",
       "      <td>20791.31898</td>\n",
       "      <td>7.300212</td>\n",
       "      <td>368.516441</td>\n",
       "      <td>564.308654</td>\n",
       "      <td>10.379783</td>\n",
       "      <td>86.990970</td>\n",
       "      <td>2.963135</td>\n",
       "      <td>0</td>\n",
       "    </tr>\n",
       "    <tr>\n",
       "      <th>1</th>\n",
       "      <td>3.716080</td>\n",
       "      <td>129.42</td>\n",
       "      <td>18630.05786</td>\n",
       "      <td>6.635246</td>\n",
       "      <td>333.775777</td>\n",
       "      <td>592.885359</td>\n",
       "      <td>15.180013</td>\n",
       "      <td>56.329076</td>\n",
       "      <td>4.500656</td>\n",
       "      <td>0</td>\n",
       "    </tr>\n",
       "    <tr>\n",
       "      <th>2</th>\n",
       "      <td>8.099124</td>\n",
       "      <td>224.24</td>\n",
       "      <td>19909.54173</td>\n",
       "      <td>9.275884</td>\n",
       "      <td>333.775777</td>\n",
       "      <td>418.606213</td>\n",
       "      <td>16.868637</td>\n",
       "      <td>66.420093</td>\n",
       "      <td>3.055934</td>\n",
       "      <td>0</td>\n",
       "    </tr>\n",
       "    <tr>\n",
       "      <th>3</th>\n",
       "      <td>8.316766</td>\n",
       "      <td>214.37</td>\n",
       "      <td>22018.41744</td>\n",
       "      <td>8.059332</td>\n",
       "      <td>356.886136</td>\n",
       "      <td>363.266516</td>\n",
       "      <td>18.436525</td>\n",
       "      <td>100.341674</td>\n",
       "      <td>4.628771</td>\n",
       "      <td>0</td>\n",
       "    </tr>\n",
       "    <tr>\n",
       "      <th>4</th>\n",
       "      <td>9.092223</td>\n",
       "      <td>181.10</td>\n",
       "      <td>17978.98634</td>\n",
       "      <td>6.546600</td>\n",
       "      <td>310.135738</td>\n",
       "      <td>398.410813</td>\n",
       "      <td>11.558279</td>\n",
       "      <td>31.997993</td>\n",
       "      <td>4.075075</td>\n",
       "      <td>0</td>\n",
       "    </tr>\n",
       "    <tr>\n",
       "      <th>...</th>\n",
       "      <td>...</td>\n",
       "      <td>...</td>\n",
       "      <td>...</td>\n",
       "      <td>...</td>\n",
       "      <td>...</td>\n",
       "      <td>...</td>\n",
       "      <td>...</td>\n",
       "      <td>...</td>\n",
       "      <td>...</td>\n",
       "      <td>...</td>\n",
       "    </tr>\n",
       "    <tr>\n",
       "      <th>3271</th>\n",
       "      <td>4.668102</td>\n",
       "      <td>193.68</td>\n",
       "      <td>47580.99160</td>\n",
       "      <td>7.166639</td>\n",
       "      <td>359.948574</td>\n",
       "      <td>526.424171</td>\n",
       "      <td>13.894419</td>\n",
       "      <td>66.687695</td>\n",
       "      <td>4.435821</td>\n",
       "      <td>1</td>\n",
       "    </tr>\n",
       "    <tr>\n",
       "      <th>3272</th>\n",
       "      <td>7.808856</td>\n",
       "      <td>193.55</td>\n",
       "      <td>17329.80216</td>\n",
       "      <td>8.061362</td>\n",
       "      <td>333.775777</td>\n",
       "      <td>392.449580</td>\n",
       "      <td>19.903225</td>\n",
       "      <td>66.396293</td>\n",
       "      <td>2.798243</td>\n",
       "      <td>1</td>\n",
       "    </tr>\n",
       "    <tr>\n",
       "      <th>3273</th>\n",
       "      <td>9.419510</td>\n",
       "      <td>175.76</td>\n",
       "      <td>33155.57822</td>\n",
       "      <td>7.350233</td>\n",
       "      <td>333.775777</td>\n",
       "      <td>432.044783</td>\n",
       "      <td>11.039070</td>\n",
       "      <td>69.845400</td>\n",
       "      <td>3.298875</td>\n",
       "      <td>1</td>\n",
       "    </tr>\n",
       "    <tr>\n",
       "      <th>3274</th>\n",
       "      <td>5.126763</td>\n",
       "      <td>230.60</td>\n",
       "      <td>11983.86938</td>\n",
       "      <td>6.303357</td>\n",
       "      <td>333.775777</td>\n",
       "      <td>402.883113</td>\n",
       "      <td>11.168946</td>\n",
       "      <td>77.488213</td>\n",
       "      <td>4.708658</td>\n",
       "      <td>1</td>\n",
       "    </tr>\n",
       "    <tr>\n",
       "      <th>3275</th>\n",
       "      <td>7.874671</td>\n",
       "      <td>195.10</td>\n",
       "      <td>17404.17706</td>\n",
       "      <td>7.509306</td>\n",
       "      <td>333.775777</td>\n",
       "      <td>327.459761</td>\n",
       "      <td>16.140368</td>\n",
       "      <td>78.698446</td>\n",
       "      <td>2.309149</td>\n",
       "      <td>1</td>\n",
       "    </tr>\n",
       "  </tbody>\n",
       "</table>\n",
       "<p>3276 rows × 10 columns</p>\n",
       "</div>"
      ],
      "text/plain": [
       "            Ph  Hardness       Solids  Chloramines     Sulfate  Conductivity  \\\n",
       "0     7.080795    204.89  20791.31898     7.300212  368.516441    564.308654   \n",
       "1     3.716080    129.42  18630.05786     6.635246  333.775777    592.885359   \n",
       "2     8.099124    224.24  19909.54173     9.275884  333.775777    418.606213   \n",
       "3     8.316766    214.37  22018.41744     8.059332  356.886136    363.266516   \n",
       "4     9.092223    181.10  17978.98634     6.546600  310.135738    398.410813   \n",
       "...        ...       ...          ...          ...         ...           ...   \n",
       "3271  4.668102    193.68  47580.99160     7.166639  359.948574    526.424171   \n",
       "3272  7.808856    193.55  17329.80216     8.061362  333.775777    392.449580   \n",
       "3273  9.419510    175.76  33155.57822     7.350233  333.775777    432.044783   \n",
       "3274  5.126763    230.60  11983.86938     6.303357  333.775777    402.883113   \n",
       "3275  7.874671    195.10  17404.17706     7.509306  333.775777    327.459761   \n",
       "\n",
       "      Organic_carbon  Trihalomethanes  Turbidity  Potability  \n",
       "0          10.379783        86.990970   2.963135           0  \n",
       "1          15.180013        56.329076   4.500656           0  \n",
       "2          16.868637        66.420093   3.055934           0  \n",
       "3          18.436525       100.341674   4.628771           0  \n",
       "4          11.558279        31.997993   4.075075           0  \n",
       "...              ...              ...        ...         ...  \n",
       "3271       13.894419        66.687695   4.435821           1  \n",
       "3272       19.903225        66.396293   2.798243           1  \n",
       "3273       11.039070        69.845400   3.298875           1  \n",
       "3274       11.168946        77.488213   4.708658           1  \n",
       "3275       16.140368        78.698446   2.309149           1  \n",
       "\n",
       "[3276 rows x 10 columns]"
      ]
     },
     "metadata": {},
     "execution_count": 7
    }
   ],
   "metadata": {}
  },
  {
   "cell_type": "code",
   "execution_count": 8,
   "source": [
    "data2.info()"
   ],
   "outputs": [
    {
     "output_type": "stream",
     "name": "stdout",
     "text": [
      "<class 'pandas.core.frame.DataFrame'>\n",
      "RangeIndex: 3276 entries, 0 to 3275\n",
      "Data columns (total 10 columns):\n",
      " #   Column           Non-Null Count  Dtype  \n",
      "---  ------           --------------  -----  \n",
      " 0   Ph               3276 non-null   float64\n",
      " 1   Hardness         3276 non-null   float64\n",
      " 2   Solids           3276 non-null   float64\n",
      " 3   Chloramines      3276 non-null   float64\n",
      " 4   Sulfate          3276 non-null   float64\n",
      " 5   Conductivity     3276 non-null   float64\n",
      " 6   Organic_carbon   3276 non-null   float64\n",
      " 7   Trihalomethanes  3276 non-null   float64\n",
      " 8   Turbidity        3276 non-null   float64\n",
      " 9   Potability       3276 non-null   int64  \n",
      "dtypes: float64(9), int64(1)\n",
      "memory usage: 256.1 KB\n"
     ]
    }
   ],
   "metadata": {}
  },
  {
   "cell_type": "code",
   "execution_count": 9,
   "source": [
    "X = data2.drop(['Potability'], axis=1)\n",
    "y = data2['Potability']\n",
    "print(X.shape, y.shape)"
   ],
   "outputs": [
    {
     "output_type": "stream",
     "name": "stdout",
     "text": [
      "(3276, 9) (3276,)\n"
     ]
    }
   ],
   "metadata": {}
  },
  {
   "cell_type": "code",
   "execution_count": 10,
   "source": [
    "# Splitting the dataset into training and test set. \n",
    "from sklearn.model_selection import train_test_split\n",
    "\n",
    "X_train, X_test, y_train, y_test = train_test_split(X, y, test_size = 0.20, random_state = 2)"
   ],
   "outputs": [],
   "metadata": {}
  },
  {
   "cell_type": "code",
   "execution_count": 11,
   "source": [
    "from sklearn.preprocessing import StandardScaler\n",
    "\n",
    "# the Standard Scaler\n",
    "scaler = StandardScaler()\n",
    "\n",
    "# Fit the scaler to the training set\n",
    "scaler.fit(X_train)\n",
    "\n",
    "# Transform the training set\n",
    "X_train_scaled = scaler.transform(X_train)\n",
    "\n",
    "### Transform the test set\n",
    "X_test_scaled = scaler.transform(X_test)"
   ],
   "outputs": [],
   "metadata": {}
  },
  {
   "cell_type": "code",
   "execution_count": 12,
   "source": [
    "# the Algorithm \n",
    "from sklearn.linear_model import LogisticRegression\n",
    "classifier = LogisticRegression()\n",
    "\n",
    "classifier.fit(X_train_scaled, y_train)"
   ],
   "outputs": [
    {
     "output_type": "execute_result",
     "data": {
      "text/plain": [
       "LogisticRegression()"
      ]
     },
     "metadata": {},
     "execution_count": 12
    }
   ],
   "metadata": {}
  },
  {
   "cell_type": "code",
   "execution_count": 13,
   "source": [
    "# Predict on test \n",
    "lr_pred = classifier.predict(X_test_scaled)\n",
    "\n",
    "from sklearn.metrics import r2_score,mean_squared_error,accuracy_score,confusion_matrix,classification_report \n",
    "print(\"R2 Score:\",r2_score(y_test, lr_pred)) \n",
    "print(\"Mean Squared Error:\",mean_squared_error(y_test, lr_pred))\n",
    "print(\"Accuracy:\",accuracy_score(y_test, lr_pred)*100) \n",
    "print(\"Confusion Matrix:\\n\",confusion_matrix(y_test, lr_pred))\n",
    "print(\"Classification Report:\\n\",classification_report(y_test, lr_pred)) "
   ],
   "outputs": [
    {
     "output_type": "stream",
     "name": "stdout",
     "text": [
      "R2 Score: -0.5753046562839406\n",
      "Mean Squared Error: 0.3673780487804878\n",
      "Accuracy: 63.262195121951216\n",
      "Confusion Matrix:\n",
      " [[413   0]\n",
      " [241   2]]\n",
      "Classification Report:\n",
      "               precision    recall  f1-score   support\n",
      "\n",
      "           0       0.63      1.00      0.77       413\n",
      "           1       1.00      0.01      0.02       243\n",
      "\n",
      "    accuracy                           0.63       656\n",
      "   macro avg       0.82      0.50      0.40       656\n",
      "weighted avg       0.77      0.63      0.49       656\n",
      "\n"
     ]
    }
   ],
   "metadata": {}
  },
  {
   "cell_type": "code",
   "execution_count": 14,
   "source": [
    "predictions = classifier.predict(X_test)\n",
    "print(f\"First 20 Predictions:   {predictions[:30]}\")\n",
    "print(f\"First 20 Actual labels: {y_test[:30].tolist()}\")"
   ],
   "outputs": [
    {
     "output_type": "stream",
     "name": "stdout",
     "text": [
      "First 20 Predictions:   [1 1 1 1 1 1 1 1 1 1 1 1 1 1 1 1 1 1 1 1 1 1 1 1 1 1 1 1 1 1]\n",
      "First 20 Actual labels: [0, 1, 0, 0, 1, 0, 0, 0, 1, 0, 1, 0, 0, 0, 0, 1, 0, 1, 0, 1, 0, 0, 1, 1, 1, 0, 1, 0, 1, 1]\n"
     ]
    }
   ],
   "metadata": {}
  },
  {
   "cell_type": "code",
   "execution_count": 15,
   "source": [
    "pd.DataFrame({\"Prediction\": predictions, \"Actual\": y_test}).reset_index(drop=True)"
   ],
   "outputs": [
    {
     "output_type": "execute_result",
     "data": {
      "text/html": [
       "<div>\n",
       "<style scoped>\n",
       "    .dataframe tbody tr th:only-of-type {\n",
       "        vertical-align: middle;\n",
       "    }\n",
       "\n",
       "    .dataframe tbody tr th {\n",
       "        vertical-align: top;\n",
       "    }\n",
       "\n",
       "    .dataframe thead th {\n",
       "        text-align: right;\n",
       "    }\n",
       "</style>\n",
       "<table border=\"1\" class=\"dataframe\">\n",
       "  <thead>\n",
       "    <tr style=\"text-align: right;\">\n",
       "      <th></th>\n",
       "      <th>Prediction</th>\n",
       "      <th>Actual</th>\n",
       "    </tr>\n",
       "  </thead>\n",
       "  <tbody>\n",
       "    <tr>\n",
       "      <th>0</th>\n",
       "      <td>1</td>\n",
       "      <td>0</td>\n",
       "    </tr>\n",
       "    <tr>\n",
       "      <th>1</th>\n",
       "      <td>1</td>\n",
       "      <td>1</td>\n",
       "    </tr>\n",
       "    <tr>\n",
       "      <th>2</th>\n",
       "      <td>1</td>\n",
       "      <td>0</td>\n",
       "    </tr>\n",
       "    <tr>\n",
       "      <th>3</th>\n",
       "      <td>1</td>\n",
       "      <td>0</td>\n",
       "    </tr>\n",
       "    <tr>\n",
       "      <th>4</th>\n",
       "      <td>1</td>\n",
       "      <td>1</td>\n",
       "    </tr>\n",
       "    <tr>\n",
       "      <th>...</th>\n",
       "      <td>...</td>\n",
       "      <td>...</td>\n",
       "    </tr>\n",
       "    <tr>\n",
       "      <th>651</th>\n",
       "      <td>1</td>\n",
       "      <td>0</td>\n",
       "    </tr>\n",
       "    <tr>\n",
       "      <th>652</th>\n",
       "      <td>1</td>\n",
       "      <td>1</td>\n",
       "    </tr>\n",
       "    <tr>\n",
       "      <th>653</th>\n",
       "      <td>1</td>\n",
       "      <td>0</td>\n",
       "    </tr>\n",
       "    <tr>\n",
       "      <th>654</th>\n",
       "      <td>1</td>\n",
       "      <td>0</td>\n",
       "    </tr>\n",
       "    <tr>\n",
       "      <th>655</th>\n",
       "      <td>1</td>\n",
       "      <td>0</td>\n",
       "    </tr>\n",
       "  </tbody>\n",
       "</table>\n",
       "<p>656 rows × 2 columns</p>\n",
       "</div>"
      ],
      "text/plain": [
       "     Prediction  Actual\n",
       "0             1       0\n",
       "1             1       1\n",
       "2             1       0\n",
       "3             1       0\n",
       "4             1       1\n",
       "..          ...     ...\n",
       "651           1       0\n",
       "652           1       1\n",
       "653           1       0\n",
       "654           1       0\n",
       "655           1       0\n",
       "\n",
       "[656 rows x 2 columns]"
      ]
     },
     "metadata": {},
     "execution_count": 15
    }
   ],
   "metadata": {}
  },
  {
   "cell_type": "code",
   "execution_count": 16,
   "source": [
    "# Get performance metrics\n",
    "from sklearn import metrics\n",
    "logreg_score = metrics.accuracy_score(y_test, lr_pred) * 100\n",
    "logreg_score"
   ],
   "outputs": [
    {
     "output_type": "execute_result",
     "data": {
      "text/plain": [
       "63.262195121951216"
      ]
     },
     "metadata": {},
     "execution_count": 16
    }
   ],
   "metadata": {}
  },
  {
   "cell_type": "code",
   "execution_count": 17,
   "source": [
    "# Save the model as \"Waterquality.pkl\"\n",
    "\n",
    "pickle.dump(classifier, open('Water_Q.pkl','wb'))"
   ],
   "outputs": [],
   "metadata": {}
  }
 ],
 "metadata": {
  "orig_nbformat": 4,
  "language_info": {
   "name": "python",
   "version": "3.6.13",
   "mimetype": "text/x-python",
   "codemirror_mode": {
    "name": "ipython",
    "version": 3
   },
   "pygments_lexer": "ipython3",
   "nbconvert_exporter": "python",
   "file_extension": ".py"
  },
  "kernelspec": {
   "name": "python3",
   "display_name": "Python 3.6.13 64-bit ('PythonAdv': conda)"
  },
  "interpreter": {
   "hash": "2643aa93f77b5e62201f5eaba79f72159aed17a77bacc8f9935ab3d18e2f0241"
  }
 },
 "nbformat": 4,
 "nbformat_minor": 2
}