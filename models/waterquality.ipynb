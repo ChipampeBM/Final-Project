{
 "cells": [
  {
   "cell_type": "code",
   "execution_count": 130,
   "source": [
    "%matplotlib inline\n",
    "import matplotlib.pyplot as plt\n",
    "import numpy as np\n",
    "import pandas as pd\n",
    "\n",
    "import pickle\n",
    "import requests\n",
    "import json"
   ],
   "outputs": [],
   "metadata": {}
  },
  {
   "cell_type": "code",
   "execution_count": 131,
   "source": [
    "# Reading the csv file into a pandas DataFrame\n",
    "\n",
    "csvdata = pd.read_csv('Resources/water_potability.csv')\n",
    "csvdata.info()"
   ],
   "outputs": [
    {
     "output_type": "stream",
     "name": "stdout",
     "text": [
      "<class 'pandas.core.frame.DataFrame'>\n",
      "RangeIndex: 3276 entries, 0 to 3275\n",
      "Data columns (total 10 columns):\n",
      " #   Column           Non-Null Count  Dtype  \n",
      "---  ------           --------------  -----  \n",
      " 0   Ph               2785 non-null   float64\n",
      " 1   Hardness         3276 non-null   float64\n",
      " 2   Solids           3276 non-null   float64\n",
      " 3   Chloramines      3276 non-null   float64\n",
      " 4   Sulfate          2495 non-null   float64\n",
      " 5   Conductivity     3276 non-null   float64\n",
      " 6   Organic_carbon   3276 non-null   float64\n",
      " 7   Trihalomethanes  3114 non-null   float64\n",
      " 8   Turbidity        3276 non-null   float64\n",
      " 9   Potability       3276 non-null   int64  \n",
      "dtypes: float64(9), int64(1)\n",
      "memory usage: 256.1 KB\n"
     ]
    }
   ],
   "metadata": {}
  },
  {
   "cell_type": "code",
   "execution_count": 132,
   "source": [
    "# Remove the NaN values\n",
    "csvdata = csvdata.dropna()\n",
    "csvdata.head()"
   ],
   "outputs": [
    {
     "output_type": "execute_result",
     "data": {
      "text/html": [
       "<div>\n",
       "<style scoped>\n",
       "    .dataframe tbody tr th:only-of-type {\n",
       "        vertical-align: middle;\n",
       "    }\n",
       "\n",
       "    .dataframe tbody tr th {\n",
       "        vertical-align: top;\n",
       "    }\n",
       "\n",
       "    .dataframe thead th {\n",
       "        text-align: right;\n",
       "    }\n",
       "</style>\n",
       "<table border=\"1\" class=\"dataframe\">\n",
       "  <thead>\n",
       "    <tr style=\"text-align: right;\">\n",
       "      <th></th>\n",
       "      <th>Ph</th>\n",
       "      <th>Hardness</th>\n",
       "      <th>Solids</th>\n",
       "      <th>Chloramines</th>\n",
       "      <th>Sulfate</th>\n",
       "      <th>Conductivity</th>\n",
       "      <th>Organic_carbon</th>\n",
       "      <th>Trihalomethanes</th>\n",
       "      <th>Turbidity</th>\n",
       "      <th>Potability</th>\n",
       "    </tr>\n",
       "  </thead>\n",
       "  <tbody>\n",
       "    <tr>\n",
       "      <th>3</th>\n",
       "      <td>8.316766</td>\n",
       "      <td>214.37</td>\n",
       "      <td>22018.41744</td>\n",
       "      <td>8.059332</td>\n",
       "      <td>356.886136</td>\n",
       "      <td>363.266516</td>\n",
       "      <td>18.436525</td>\n",
       "      <td>100.341674</td>\n",
       "      <td>4.628771</td>\n",
       "      <td>0</td>\n",
       "    </tr>\n",
       "    <tr>\n",
       "      <th>4</th>\n",
       "      <td>9.092223</td>\n",
       "      <td>181.10</td>\n",
       "      <td>17978.98634</td>\n",
       "      <td>6.546600</td>\n",
       "      <td>310.135738</td>\n",
       "      <td>398.410813</td>\n",
       "      <td>11.558279</td>\n",
       "      <td>31.997993</td>\n",
       "      <td>4.075075</td>\n",
       "      <td>0</td>\n",
       "    </tr>\n",
       "    <tr>\n",
       "      <th>5</th>\n",
       "      <td>5.584087</td>\n",
       "      <td>188.31</td>\n",
       "      <td>28748.68774</td>\n",
       "      <td>7.544869</td>\n",
       "      <td>326.678363</td>\n",
       "      <td>280.467916</td>\n",
       "      <td>8.399735</td>\n",
       "      <td>54.917862</td>\n",
       "      <td>2.559708</td>\n",
       "      <td>0</td>\n",
       "    </tr>\n",
       "    <tr>\n",
       "      <th>6</th>\n",
       "      <td>10.223862</td>\n",
       "      <td>248.07</td>\n",
       "      <td>28749.71654</td>\n",
       "      <td>7.513408</td>\n",
       "      <td>393.663396</td>\n",
       "      <td>283.651634</td>\n",
       "      <td>13.789695</td>\n",
       "      <td>84.603556</td>\n",
       "      <td>2.672989</td>\n",
       "      <td>0</td>\n",
       "    </tr>\n",
       "    <tr>\n",
       "      <th>7</th>\n",
       "      <td>8.635849</td>\n",
       "      <td>203.36</td>\n",
       "      <td>13672.09176</td>\n",
       "      <td>4.563009</td>\n",
       "      <td>303.309771</td>\n",
       "      <td>474.607645</td>\n",
       "      <td>12.363817</td>\n",
       "      <td>62.798309</td>\n",
       "      <td>4.401425</td>\n",
       "      <td>0</td>\n",
       "    </tr>\n",
       "  </tbody>\n",
       "</table>\n",
       "</div>"
      ],
      "text/plain": [
       "          Ph  Hardness       Solids  Chloramines     Sulfate  Conductivity  \\\n",
       "3   8.316766    214.37  22018.41744     8.059332  356.886136    363.266516   \n",
       "4   9.092223    181.10  17978.98634     6.546600  310.135738    398.410813   \n",
       "5   5.584087    188.31  28748.68774     7.544869  326.678363    280.467916   \n",
       "6  10.223862    248.07  28749.71654     7.513408  393.663396    283.651634   \n",
       "7   8.635849    203.36  13672.09176     4.563009  303.309771    474.607645   \n",
       "\n",
       "   Organic_carbon  Trihalomethanes  Turbidity  Potability  \n",
       "3       18.436525       100.341674   4.628771           0  \n",
       "4       11.558279        31.997993   4.075075           0  \n",
       "5        8.399735        54.917862   2.559708           0  \n",
       "6       13.789695        84.603556   2.672989           0  \n",
       "7       12.363817        62.798309   4.401425           0  "
      ]
     },
     "metadata": {},
     "execution_count": 132
    }
   ],
   "metadata": {}
  },
  {
   "cell_type": "code",
   "execution_count": 133,
   "source": [
    "# Remove the NaN values\n",
    "csvdata = csvdata.dropna()\n",
    "\n",
    "# change columns to int64\n",
    "csvdata = csvdata.astype({\"Ph\": \"int64\"})\n",
    "csvdata = csvdata.astype({\"Hardness\": \"int64\"})\n",
    "csvdata = csvdata.astype({\"Solids\": \"int64\"})\n",
    "csvdata = csvdata.astype({\"Chloramines\": \"int64\"})\n",
    "csvdata = csvdata.astype({\"Sulfate\": \"int64\"})\n",
    "csvdata = csvdata.astype({\"Conductivity\": \"int64\"})\n",
    "csvdata = csvdata.astype({\"Organic_carbon\": \"int64\"})\n",
    "csvdata = csvdata.astype({\"Trihalomethanes\": \"int64\"})\n",
    "csvdata = csvdata.astype({\"Turbidity\": \"int64\"})\n",
    "csvdata = csvdata.astype({\"Potability\":\"str\"})\n",
    "\n",
    "\n",
    "\n",
    "csvdata.head()"
   ],
   "outputs": [
    {
     "output_type": "execute_result",
     "data": {
      "text/html": [
       "<div>\n",
       "<style scoped>\n",
       "    .dataframe tbody tr th:only-of-type {\n",
       "        vertical-align: middle;\n",
       "    }\n",
       "\n",
       "    .dataframe tbody tr th {\n",
       "        vertical-align: top;\n",
       "    }\n",
       "\n",
       "    .dataframe thead th {\n",
       "        text-align: right;\n",
       "    }\n",
       "</style>\n",
       "<table border=\"1\" class=\"dataframe\">\n",
       "  <thead>\n",
       "    <tr style=\"text-align: right;\">\n",
       "      <th></th>\n",
       "      <th>Ph</th>\n",
       "      <th>Hardness</th>\n",
       "      <th>Solids</th>\n",
       "      <th>Chloramines</th>\n",
       "      <th>Sulfate</th>\n",
       "      <th>Conductivity</th>\n",
       "      <th>Organic_carbon</th>\n",
       "      <th>Trihalomethanes</th>\n",
       "      <th>Turbidity</th>\n",
       "      <th>Potability</th>\n",
       "    </tr>\n",
       "  </thead>\n",
       "  <tbody>\n",
       "    <tr>\n",
       "      <th>3</th>\n",
       "      <td>8</td>\n",
       "      <td>214</td>\n",
       "      <td>22018</td>\n",
       "      <td>8</td>\n",
       "      <td>356</td>\n",
       "      <td>363</td>\n",
       "      <td>18</td>\n",
       "      <td>100</td>\n",
       "      <td>4</td>\n",
       "      <td>0</td>\n",
       "    </tr>\n",
       "    <tr>\n",
       "      <th>4</th>\n",
       "      <td>9</td>\n",
       "      <td>181</td>\n",
       "      <td>17978</td>\n",
       "      <td>6</td>\n",
       "      <td>310</td>\n",
       "      <td>398</td>\n",
       "      <td>11</td>\n",
       "      <td>31</td>\n",
       "      <td>4</td>\n",
       "      <td>0</td>\n",
       "    </tr>\n",
       "    <tr>\n",
       "      <th>5</th>\n",
       "      <td>5</td>\n",
       "      <td>188</td>\n",
       "      <td>28748</td>\n",
       "      <td>7</td>\n",
       "      <td>326</td>\n",
       "      <td>280</td>\n",
       "      <td>8</td>\n",
       "      <td>54</td>\n",
       "      <td>2</td>\n",
       "      <td>0</td>\n",
       "    </tr>\n",
       "    <tr>\n",
       "      <th>6</th>\n",
       "      <td>10</td>\n",
       "      <td>248</td>\n",
       "      <td>28749</td>\n",
       "      <td>7</td>\n",
       "      <td>393</td>\n",
       "      <td>283</td>\n",
       "      <td>13</td>\n",
       "      <td>84</td>\n",
       "      <td>2</td>\n",
       "      <td>0</td>\n",
       "    </tr>\n",
       "    <tr>\n",
       "      <th>7</th>\n",
       "      <td>8</td>\n",
       "      <td>203</td>\n",
       "      <td>13672</td>\n",
       "      <td>4</td>\n",
       "      <td>303</td>\n",
       "      <td>474</td>\n",
       "      <td>12</td>\n",
       "      <td>62</td>\n",
       "      <td>4</td>\n",
       "      <td>0</td>\n",
       "    </tr>\n",
       "  </tbody>\n",
       "</table>\n",
       "</div>"
      ],
      "text/plain": [
       "   Ph  Hardness  Solids  Chloramines  Sulfate  Conductivity  Organic_carbon  \\\n",
       "3   8       214   22018            8      356           363              18   \n",
       "4   9       181   17978            6      310           398              11   \n",
       "5   5       188   28748            7      326           280               8   \n",
       "6  10       248   28749            7      393           283              13   \n",
       "7   8       203   13672            4      303           474              12   \n",
       "\n",
       "   Trihalomethanes  Turbidity Potability  \n",
       "3              100          4          0  \n",
       "4               31          4          0  \n",
       "5               54          2          0  \n",
       "6               84          2          0  \n",
       "7               62          4          0  "
      ]
     },
     "metadata": {},
     "execution_count": 133
    }
   ],
   "metadata": {}
  },
  {
   "cell_type": "code",
   "execution_count": 134,
   "source": [
    "csvdata.info()"
   ],
   "outputs": [
    {
     "output_type": "stream",
     "name": "stdout",
     "text": [
      "<class 'pandas.core.frame.DataFrame'>\n",
      "Int64Index: 2011 entries, 3 to 3271\n",
      "Data columns (total 10 columns):\n",
      " #   Column           Non-Null Count  Dtype \n",
      "---  ------           --------------  ----- \n",
      " 0   Ph               2011 non-null   int64 \n",
      " 1   Hardness         2011 non-null   int64 \n",
      " 2   Solids           2011 non-null   int64 \n",
      " 3   Chloramines      2011 non-null   int64 \n",
      " 4   Sulfate          2011 non-null   int64 \n",
      " 5   Conductivity     2011 non-null   int64 \n",
      " 6   Organic_carbon   2011 non-null   int64 \n",
      " 7   Trihalomethanes  2011 non-null   int64 \n",
      " 8   Turbidity        2011 non-null   int64 \n",
      " 9   Potability       2011 non-null   object\n",
      "dtypes: int64(9), object(1)\n",
      "memory usage: 172.8+ KB\n"
     ]
    }
   ],
   "metadata": {}
  },
  {
   "cell_type": "code",
   "execution_count": 135,
   "source": [
    "csvdata.hist(figsize=(15,10))\n",
    "plt.figure()\n",
    "plt.show()"
   ],
   "outputs": [
    {
     "output_type": "display_data",
     "data": {
      "image/png": "[encoded data removed]",
      "text/plain": [
       "<Figure size 1080x720 with 9 Axes>"
      ]
     },
     "metadata": {
      "needs_background": "light"
     }
    },
    {
     "output_type": "display_data",
     "data": {
      "text/plain": [
       "<Figure size 432x288 with 0 Axes>"
      ]
     },
     "metadata": {}
    }
   ],
   "metadata": {}
  },
  {
   "cell_type": "code",
   "execution_count": 91,
   "source": [
    "#print(csvdata.corr())"
   ],
   "outputs": [],
   "metadata": {}
  },
  {
   "cell_type": "code",
   "execution_count": 136,
   "source": [
    "csvdata.Potability.value_counts().sort_values().plot(kind = 'barh')"
   ],
   "outputs": [
    {
     "output_type": "execute_result",
     "data": {
      "text/plain": [
       "<AxesSubplot:>"
      ]
     },
     "metadata": {},
     "execution_count": 136
    },
    {
     "output_type": "display_data",
     "data": {
      "image/png": "[encoded data removed]",
      "text/plain": [
       "<Figure size 432x288 with 1 Axes>"
      ]
     },
     "metadata": {
      "needs_background": "light"
     }
    }
   ],
   "metadata": {}
  },
  {
   "cell_type": "code",
   "execution_count": 137,
   "source": [
    "csvdata['Potability'] = csvdata['Potability'].replace(['1'],'Potable')\n",
    "csvdata['Potability'] = csvdata['Potability'].replace(['0'],'Not Potable')\n",
    "csvdata.head()"
   ],
   "outputs": [
    {
     "output_type": "execute_result",
     "data": {
      "text/html": [
       "<div>\n",
       "<style scoped>\n",
       "    .dataframe tbody tr th:only-of-type {\n",
       "        vertical-align: middle;\n",
       "    }\n",
       "\n",
       "    .dataframe tbody tr th {\n",
       "        vertical-align: top;\n",
       "    }\n",
       "\n",
       "    .dataframe thead th {\n",
       "        text-align: right;\n",
       "    }\n",
       "</style>\n",
       "<table border=\"1\" class=\"dataframe\">\n",
       "  <thead>\n",
       "    <tr style=\"text-align: right;\">\n",
       "      <th></th>\n",
       "      <th>Ph</th>\n",
       "      <th>Hardness</th>\n",
       "      <th>Solids</th>\n",
       "      <th>Chloramines</th>\n",
       "      <th>Sulfate</th>\n",
       "      <th>Conductivity</th>\n",
       "      <th>Organic_carbon</th>\n",
       "      <th>Trihalomethanes</th>\n",
       "      <th>Turbidity</th>\n",
       "      <th>Potability</th>\n",
       "    </tr>\n",
       "  </thead>\n",
       "  <tbody>\n",
       "    <tr>\n",
       "      <th>3</th>\n",
       "      <td>8</td>\n",
       "      <td>214</td>\n",
       "      <td>22018</td>\n",
       "      <td>8</td>\n",
       "      <td>356</td>\n",
       "      <td>363</td>\n",
       "      <td>18</td>\n",
       "      <td>100</td>\n",
       "      <td>4</td>\n",
       "      <td>Not Potable</td>\n",
       "    </tr>\n",
       "    <tr>\n",
       "      <th>4</th>\n",
       "      <td>9</td>\n",
       "      <td>181</td>\n",
       "      <td>17978</td>\n",
       "      <td>6</td>\n",
       "      <td>310</td>\n",
       "      <td>398</td>\n",
       "      <td>11</td>\n",
       "      <td>31</td>\n",
       "      <td>4</td>\n",
       "      <td>Not Potable</td>\n",
       "    </tr>\n",
       "    <tr>\n",
       "      <th>5</th>\n",
       "      <td>5</td>\n",
       "      <td>188</td>\n",
       "      <td>28748</td>\n",
       "      <td>7</td>\n",
       "      <td>326</td>\n",
       "      <td>280</td>\n",
       "      <td>8</td>\n",
       "      <td>54</td>\n",
       "      <td>2</td>\n",
       "      <td>Not Potable</td>\n",
       "    </tr>\n",
       "    <tr>\n",
       "      <th>6</th>\n",
       "      <td>10</td>\n",
       "      <td>248</td>\n",
       "      <td>28749</td>\n",
       "      <td>7</td>\n",
       "      <td>393</td>\n",
       "      <td>283</td>\n",
       "      <td>13</td>\n",
       "      <td>84</td>\n",
       "      <td>2</td>\n",
       "      <td>Not Potable</td>\n",
       "    </tr>\n",
       "    <tr>\n",
       "      <th>7</th>\n",
       "      <td>8</td>\n",
       "      <td>203</td>\n",
       "      <td>13672</td>\n",
       "      <td>4</td>\n",
       "      <td>303</td>\n",
       "      <td>474</td>\n",
       "      <td>12</td>\n",
       "      <td>62</td>\n",
       "      <td>4</td>\n",
       "      <td>Not Potable</td>\n",
       "    </tr>\n",
       "  </tbody>\n",
       "</table>\n",
       "</div>"
      ],
      "text/plain": [
       "   Ph  Hardness  Solids  Chloramines  Sulfate  Conductivity  Organic_carbon  \\\n",
       "3   8       214   22018            8      356           363              18   \n",
       "4   9       181   17978            6      310           398              11   \n",
       "5   5       188   28748            7      326           280               8   \n",
       "6  10       248   28749            7      393           283              13   \n",
       "7   8       203   13672            4      303           474              12   \n",
       "\n",
       "   Trihalomethanes  Turbidity   Potability  \n",
       "3              100          4  Not Potable  \n",
       "4               31          4  Not Potable  \n",
       "5               54          2  Not Potable  \n",
       "6               84          2  Not Potable  \n",
       "7               62          4  Not Potable  "
      ]
     },
     "metadata": {},
     "execution_count": 137
    }
   ],
   "metadata": {}
  },
  {
   "cell_type": "code",
   "execution_count": 138,
   "source": [
    "# Assign X (data) and y (target)\n",
    "X = csvdata.drop(\"Potability\", axis=1)\n",
    "y = csvdata[\"Potability\"]\n",
    "print(X.shape, y.shape)"
   ],
   "outputs": [
    {
     "output_type": "stream",
     "name": "stdout",
     "text": [
      "(2011, 9) (2011,)\n"
     ]
    }
   ],
   "metadata": {}
  },
  {
   "cell_type": "code",
   "execution_count": 139,
   "source": [
    "from sklearn.model_selection import train_test_split\n",
    "\n",
    "X_train, X_test, y_train, y_test = train_test_split(X, y, random_state=23)"
   ],
   "outputs": [],
   "metadata": {}
  },
  {
   "cell_type": "code",
   "execution_count": 140,
   "source": [
    "from sklearn.linear_model import LogisticRegression\n",
    "classifier = LogisticRegression()\n",
    "classifier"
   ],
   "outputs": [
    {
     "output_type": "execute_result",
     "data": {
      "text/plain": [
       "LogisticRegression()"
      ]
     },
     "metadata": {},
     "execution_count": 140
    }
   ],
   "metadata": {}
  },
  {
   "cell_type": "code",
   "execution_count": 141,
   "source": [
    "classifier.fit(X_train, y_train)"
   ],
   "outputs": [
    {
     "output_type": "execute_result",
     "data": {
      "text/plain": [
       "LogisticRegression()"
      ]
     },
     "metadata": {},
     "execution_count": 141
    }
   ],
   "metadata": {}
  },
  {
   "cell_type": "code",
   "execution_count": 142,
   "source": [
    "print(f\"Training Data Score: {classifier.score(X_train, y_train)}\")\n",
    "print(f\"Testing Data Score: {classifier.score(X_test, y_test)}\")"
   ],
   "outputs": [
    {
     "output_type": "stream",
     "name": "stdout",
     "text": [
      "Training Data Score: 0.6047745358090185\n",
      "Testing Data Score: 0.5825049701789264\n"
     ]
    }
   ],
   "metadata": {}
  },
  {
   "cell_type": "code",
   "execution_count": 143,
   "source": [
    "predictions = classifier.predict(X_test)\n",
    "print(f\"First 20 Predictions:   {predictions[:20]}\")\n",
    "print(f\"First 20 Actual labels: {y_test[:20].tolist()}\")"
   ],
   "outputs": [
    {
     "output_type": "stream",
     "name": "stdout",
     "text": [
      "First 20 Predictions:   ['Not Potable' 'Not Potable' 'Not Potable' 'Not Potable' 'Not Potable'\n",
      " 'Not Potable' 'Not Potable' 'Not Potable' 'Not Potable' 'Not Potable'\n",
      " 'Not Potable' 'Not Potable' 'Not Potable' 'Not Potable' 'Not Potable'\n",
      " 'Not Potable' 'Not Potable' 'Not Potable' 'Not Potable' 'Not Potable']\n",
      "First 20 Actual labels: ['Potable', 'Potable', 'Not Potable', 'Not Potable', 'Not Potable', 'Not Potable', 'Potable', 'Potable', 'Potable', 'Potable', 'Potable', 'Potable', 'Not Potable', 'Not Potable', 'Not Potable', 'Not Potable', 'Potable', 'Not Potable', 'Not Potable', 'Potable']\n"
     ]
    }
   ],
   "metadata": {}
  },
  {
   "cell_type": "code",
   "execution_count": 144,
   "source": [
    "pd.DataFrame({\"Prediction\": predictions, \"Actual\": y_test}).reset_index(drop=True)"
   ],
   "outputs": [
    {
     "output_type": "execute_result",
     "data": {
      "text/html": [
       "<div>\n",
       "<style scoped>\n",
       "    .dataframe tbody tr th:only-of-type {\n",
       "        vertical-align: middle;\n",
       "    }\n",
       "\n",
       "    .dataframe tbody tr th {\n",
       "        vertical-align: top;\n",
       "    }\n",
       "\n",
       "    .dataframe thead th {\n",
       "        text-align: right;\n",
       "    }\n",
       "</style>\n",
       "<table border=\"1\" class=\"dataframe\">\n",
       "  <thead>\n",
       "    <tr style=\"text-align: right;\">\n",
       "      <th></th>\n",
       "      <th>Prediction</th>\n",
       "      <th>Actual</th>\n",
       "    </tr>\n",
       "  </thead>\n",
       "  <tbody>\n",
       "    <tr>\n",
       "      <th>0</th>\n",
       "      <td>Not Potable</td>\n",
       "      <td>Potable</td>\n",
       "    </tr>\n",
       "    <tr>\n",
       "      <th>1</th>\n",
       "      <td>Not Potable</td>\n",
       "      <td>Potable</td>\n",
       "    </tr>\n",
       "    <tr>\n",
       "      <th>2</th>\n",
       "      <td>Not Potable</td>\n",
       "      <td>Not Potable</td>\n",
       "    </tr>\n",
       "    <tr>\n",
       "      <th>3</th>\n",
       "      <td>Not Potable</td>\n",
       "      <td>Not Potable</td>\n",
       "    </tr>\n",
       "    <tr>\n",
       "      <th>4</th>\n",
       "      <td>Not Potable</td>\n",
       "      <td>Not Potable</td>\n",
       "    </tr>\n",
       "    <tr>\n",
       "      <th>...</th>\n",
       "      <td>...</td>\n",
       "      <td>...</td>\n",
       "    </tr>\n",
       "    <tr>\n",
       "      <th>498</th>\n",
       "      <td>Not Potable</td>\n",
       "      <td>Potable</td>\n",
       "    </tr>\n",
       "    <tr>\n",
       "      <th>499</th>\n",
       "      <td>Not Potable</td>\n",
       "      <td>Not Potable</td>\n",
       "    </tr>\n",
       "    <tr>\n",
       "      <th>500</th>\n",
       "      <td>Not Potable</td>\n",
       "      <td>Not Potable</td>\n",
       "    </tr>\n",
       "    <tr>\n",
       "      <th>501</th>\n",
       "      <td>Not Potable</td>\n",
       "      <td>Potable</td>\n",
       "    </tr>\n",
       "    <tr>\n",
       "      <th>502</th>\n",
       "      <td>Not Potable</td>\n",
       "      <td>Potable</td>\n",
       "    </tr>\n",
       "  </tbody>\n",
       "</table>\n",
       "<p>503 rows × 2 columns</p>\n",
       "</div>"
      ],
      "text/plain": [
       "      Prediction       Actual\n",
       "0    Not Potable      Potable\n",
       "1    Not Potable      Potable\n",
       "2    Not Potable  Not Potable\n",
       "3    Not Potable  Not Potable\n",
       "4    Not Potable  Not Potable\n",
       "..           ...          ...\n",
       "498  Not Potable      Potable\n",
       "499  Not Potable  Not Potable\n",
       "500  Not Potable  Not Potable\n",
       "501  Not Potable      Potable\n",
       "502  Not Potable      Potable\n",
       "\n",
       "[503 rows x 2 columns]"
      ]
     },
     "metadata": {},
     "execution_count": 144
    }
   ],
   "metadata": {}
  },
  {
   "cell_type": "code",
   "execution_count": 145,
   "source": [
    "# Save the model as \"Waterquality.pkl\"\n",
    "\n",
    "pickle.dump(classifier, open('Water_Pot.pkl','wb'))"
   ],
   "outputs": [],
   "metadata": {}
  },
  {
   "cell_type": "code",
   "execution_count": null,
   "source": [
    "csvdata.to_csv(\"water_pot2.csv\")"
   ],
   "outputs": [],
   "metadata": {}
  }
 ],
 "metadata": {
  "orig_nbformat": 4,
  "language_info": {
   "name": "python",
   "version": "3.6.13",
   "mimetype": "text/x-python",
   "codemirror_mode": {
    "name": "ipython",
    "version": 3
   },
   "pygments_lexer": "ipython3",
   "nbconvert_exporter": "python",
   "file_extension": ".py"
  },
  "kernelspec": {
   "name": "python3",
   "display_name": "Python 3.6.13 64-bit ('PythonAdv': conda)"
  },
  "interpreter": {
   "hash": "2643aa93f77b5e62201f5eaba79f72159aed17a77bacc8f9935ab3d18e2f0241"
  }
 },
 "nbformat": 4,
 "nbformat_minor": 2
}